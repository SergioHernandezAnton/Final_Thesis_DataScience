{
 "cells": [
  {
   "cell_type": "markdown",
   "id": "0bcd5a8e-5b00-43bf-9f33-5aaac50abe44",
   "metadata": {},
   "source": [
    "# Experiment 2. Breast cancer risk prediction"
   ]
  },
  {
   "cell_type": "markdown",
   "id": "4dc0ad03-8987-45b0-8a62-7461e170131d",
   "metadata": {},
   "source": [
    "## Import libriaries"
   ]
  },
  {
   "cell_type": "code",
   "execution_count": 1,
   "id": "2fa768be-9b5b-4b77-a327-e37a9a4f4304",
   "metadata": {},
   "outputs": [],
   "source": [
    "# Ignore warnings\n",
    "import warnings\n",
    "warnings.filterwarnings('ignore')\n",
    "\n",
    "import pandas as pd\n",
    "import numpy as np\n",
    "import matplotlib.pyplot as plt\n",
    "\n",
    "import utils  # Module with all hand-crafted methods"
   ]
  },
  {
   "cell_type": "markdown",
   "id": "0f4ac529-f694-4213-8caa-8ad7acb7347d",
   "metadata": {},
   "source": [
    "## Parameter definition"
   ]
  },
  {
   "cell_type": "code",
   "execution_count": 2,
   "id": "31b7ae50-6553-4133-8f29-b8a4ddc2a7fe",
   "metadata": {},
   "outputs": [],
   "source": [
    "random_state = 42  # To enable reproducibility"
   ]
  },
  {
   "cell_type": "markdown",
   "id": "94ab7df3-3f28-40f7-a6f9-d6fe41014599",
   "metadata": {},
   "source": [
    "## Read the dataset and filter columns"
   ]
  },
  {
   "cell_type": "code",
   "execution_count": 3,
   "id": "da3a4c67-db84-4bd1-acab-a5a6949e849e",
   "metadata": {},
   "outputs": [
    {
     "name": "stdout",
     "output_type": "stream",
     "text": [
      "(58, 22) (58, 16) (58, 7)\n"
     ]
    }
   ],
   "source": [
    "# Read dataset\n",
    "lifestyle = pd.read_excel(\n",
    "    \"../data/pone.0149552.s001.xlsx\",\n",
    "    usecols = \"B:W\"\n",
    ")\n",
    "\n",
    "# Correlated columns to the target (Group)\n",
    "corr_cols = ['Group', 'Adjuvant Treatment', 'Stage', 'Estrogen Receptor Positive', 'Surgery yes or no', 'Months Since Treatment End']\n",
    "\n",
    "# Store correlated columns and create a boolean column with our study target\n",
    "labels = lifestyle[corr_cols]\n",
    "labels['Cancer'] = lifestyle['Group'] == 'BreastCancer'\n",
    "\n",
    "# Drop correlated columns\n",
    "data = lifestyle.drop(columns = corr_cols)\n",
    "\n",
    "# Print the shape of each DataFrame\n",
    "print(lifestyle.shape, data.shape, labels.shape)"
   ]
  },
  {
   "cell_type": "markdown",
   "id": "e0521ed3-f677-4f18-9260-924238e3d710",
   "metadata": {},
   "source": [
    "## Compute baseline"
   ]
  },
  {
   "cell_type": "markdown",
   "id": "de464219-7e18-4337-a0e1-994b7cdb531e",
   "metadata": {},
   "source": [
    "We compute a baseline which serves as an indicator of whether or not our models improve the performance of a simpler model or not."
   ]
  },
  {
   "cell_type": "code",
   "execution_count": 4,
   "id": "ed0a23f5-7047-4325-9c51-e3cbd513016d",
   "metadata": {},
   "outputs": [],
   "source": [
    "baseline = utils.assess_baseline(data, labels['Cancer'])"
   ]
  },
  {
   "cell_type": "markdown",
   "id": "13b7018b-7d6c-440b-9375-fd76bc5899d1",
   "metadata": {},
   "source": [
    "## Risk prediction"
   ]
  },
  {
   "cell_type": "markdown",
   "id": "879a8e17-461e-4863-8fe8-56a985f986ff",
   "metadata": {},
   "source": [
    "We now predict our target column $\\textit{Cancer}$ using different ML algorithms."
   ]
  },
  {
   "cell_type": "code",
   "execution_count": 5,
   "id": "53ce1b46-fc58-434d-b947-c9cece914bbd",
   "metadata": {},
   "outputs": [
    {
     "data": {
      "text/html": [
       "<div>\n",
       "<style scoped>\n",
       "    .dataframe tbody tr th:only-of-type {\n",
       "        vertical-align: middle;\n",
       "    }\n",
       "\n",
       "    .dataframe tbody tr th {\n",
       "        vertical-align: top;\n",
       "    }\n",
       "\n",
       "    .dataframe thead th {\n",
       "        text-align: right;\n",
       "    }\n",
       "</style>\n",
       "<table border=\"1\" class=\"dataframe\">\n",
       "  <thead>\n",
       "    <tr style=\"text-align: right;\">\n",
       "      <th></th>\n",
       "      <th>Model</th>\n",
       "      <th>Accuracy</th>\n",
       "      <th>Precision</th>\n",
       "      <th>Recall</th>\n",
       "      <th>F1-Score</th>\n",
       "      <th>MCC</th>\n",
       "    </tr>\n",
       "  </thead>\n",
       "  <tbody>\n",
       "    <tr>\n",
       "      <th>0</th>\n",
       "      <td>Baseline</td>\n",
       "      <td>0.536 ± 0.106</td>\n",
       "      <td>0.533 ± 0.133</td>\n",
       "      <td>0.533 ± 0.194</td>\n",
       "      <td>0.526 ± 0.170</td>\n",
       "      <td>0.062 ± 0.216</td>\n",
       "    </tr>\n",
       "    <tr>\n",
       "      <th>1</th>\n",
       "      <td>Logistic Regression</td>\n",
       "      <td>0.673 ± 0.110</td>\n",
       "      <td>0.676 ± 0.107</td>\n",
       "      <td>0.667 ± 0.183</td>\n",
       "      <td>0.667 ± 0.148</td>\n",
       "      <td>0.343 ± 0.219</td>\n",
       "    </tr>\n",
       "    <tr>\n",
       "      <th>2</th>\n",
       "      <td>Decision Tree</td>\n",
       "      <td>0.447 ± 0.091</td>\n",
       "      <td>0.467 ± 0.081</td>\n",
       "      <td>0.500 ± 0.105</td>\n",
       "      <td>0.482 ± 0.091</td>\n",
       "      <td>-0.115 ± 0.190</td>\n",
       "    </tr>\n",
       "    <tr>\n",
       "      <th>3</th>\n",
       "      <td>Random Forest</td>\n",
       "      <td>0.503 ± 0.144</td>\n",
       "      <td>0.439 ± 0.238</td>\n",
       "      <td>0.567 ± 0.309</td>\n",
       "      <td>0.495 ± 0.268</td>\n",
       "      <td>-0.023 ± 0.323</td>\n",
       "    </tr>\n",
       "    <tr>\n",
       "      <th>4</th>\n",
       "      <td>XGBoost</td>\n",
       "      <td>0.433 ± 0.126</td>\n",
       "      <td>0.441 ± 0.146</td>\n",
       "      <td>0.433 ± 0.170</td>\n",
       "      <td>0.434 ± 0.155</td>\n",
       "      <td>-0.145 ± 0.253</td>\n",
       "    </tr>\n",
       "    <tr>\n",
       "      <th>5</th>\n",
       "      <td>SVM</td>\n",
       "      <td>0.656 ± 0.108</td>\n",
       "      <td>0.626 ± 0.072</td>\n",
       "      <td>0.800 ± 0.163</td>\n",
       "      <td>0.701 ± 0.106</td>\n",
       "      <td>0.331 ± 0.244</td>\n",
       "    </tr>\n",
       "    <tr>\n",
       "      <th>6</th>\n",
       "      <td>K-Nearest Neighbors</td>\n",
       "      <td>0.482 ± 0.094</td>\n",
       "      <td>0.500 ± 0.069</td>\n",
       "      <td>0.667 ± 0.105</td>\n",
       "      <td>0.570 ± 0.082</td>\n",
       "      <td>-0.061 ± 0.208</td>\n",
       "    </tr>\n",
       "  </tbody>\n",
       "</table>\n",
       "</div>"
      ],
      "text/plain": [
       "                 Model       Accuracy      Precision         Recall  \\\n",
       "0             Baseline  0.536 ± 0.106  0.533 ± 0.133  0.533 ± 0.194   \n",
       "1  Logistic Regression  0.673 ± 0.110  0.676 ± 0.107  0.667 ± 0.183   \n",
       "2        Decision Tree  0.447 ± 0.091  0.467 ± 0.081  0.500 ± 0.105   \n",
       "3        Random Forest  0.503 ± 0.144  0.439 ± 0.238  0.567 ± 0.309   \n",
       "4              XGBoost  0.433 ± 0.126  0.441 ± 0.146  0.433 ± 0.170   \n",
       "5                  SVM  0.656 ± 0.108  0.626 ± 0.072  0.800 ± 0.163   \n",
       "6  K-Nearest Neighbors  0.482 ± 0.094  0.500 ± 0.069  0.667 ± 0.105   \n",
       "\n",
       "        F1-Score             MCC  \n",
       "0  0.526 ± 0.170   0.062 ± 0.216  \n",
       "1  0.667 ± 0.148   0.343 ± 0.219  \n",
       "2  0.482 ± 0.091  -0.115 ± 0.190  \n",
       "3  0.495 ± 0.268  -0.023 ± 0.323  \n",
       "4  0.434 ± 0.155  -0.145 ± 0.253  \n",
       "5  0.701 ± 0.106   0.331 ± 0.244  \n",
       "6  0.570 ± 0.082  -0.061 ± 0.208  "
      ]
     },
     "execution_count": 5,
     "metadata": {},
     "output_type": "execute_result"
    }
   ],
   "source": [
    "summary = pd.concat([baseline, utils.compare_models(data, labels['Cancer'])], axis=0, ignore_index=True)\n",
    "\n",
    "summary.head(7)"
   ]
  },
  {
   "cell_type": "markdown",
   "id": "b89b6606-3225-40dd-8c6f-60bd8cd707fb",
   "metadata": {},
   "source": [
    "Moreover, we try to do the same with data augmentation using $\\textbf{SMOTE}$."
   ]
  },
  {
   "cell_type": "code",
   "execution_count": 6,
   "id": "f08ac570-cb9f-4afc-8ed5-7718c2383cf1",
   "metadata": {},
   "outputs": [
    {
     "data": {
      "text/html": [
       "<div>\n",
       "<style scoped>\n",
       "    .dataframe tbody tr th:only-of-type {\n",
       "        vertical-align: middle;\n",
       "    }\n",
       "\n",
       "    .dataframe tbody tr th {\n",
       "        vertical-align: top;\n",
       "    }\n",
       "\n",
       "    .dataframe thead th {\n",
       "        text-align: right;\n",
       "    }\n",
       "</style>\n",
       "<table border=\"1\" class=\"dataframe\">\n",
       "  <thead>\n",
       "    <tr style=\"text-align: right;\">\n",
       "      <th></th>\n",
       "      <th>Model</th>\n",
       "      <th>Accuracy</th>\n",
       "      <th>Precision</th>\n",
       "      <th>Recall</th>\n",
       "      <th>F1-Score</th>\n",
       "      <th>MCC</th>\n",
       "    </tr>\n",
       "  </thead>\n",
       "  <tbody>\n",
       "    <tr>\n",
       "      <th>0</th>\n",
       "      <td>Baseline</td>\n",
       "      <td>0.536 ± 0.106</td>\n",
       "      <td>0.533 ± 0.133</td>\n",
       "      <td>0.533 ± 0.194</td>\n",
       "      <td>0.526 ± 0.170</td>\n",
       "      <td>0.062 ± 0.216</td>\n",
       "    </tr>\n",
       "    <tr>\n",
       "      <th>1</th>\n",
       "      <td>Logistic Regression</td>\n",
       "      <td>0.708 ± 0.145</td>\n",
       "      <td>0.733 ± 0.170</td>\n",
       "      <td>0.667 ± 0.183</td>\n",
       "      <td>0.695 ± 0.175</td>\n",
       "      <td>0.416 ± 0.294</td>\n",
       "    </tr>\n",
       "    <tr>\n",
       "      <th>2</th>\n",
       "      <td>Decision Tree</td>\n",
       "      <td>0.483 ± 0.119</td>\n",
       "      <td>0.525 ± 0.131</td>\n",
       "      <td>0.533 ± 0.067</td>\n",
       "      <td>0.521 ± 0.074</td>\n",
       "      <td>-0.037 ± 0.261</td>\n",
       "    </tr>\n",
       "    <tr>\n",
       "      <th>3</th>\n",
       "      <td>Random Forest</td>\n",
       "      <td>0.488 ± 0.173</td>\n",
       "      <td>0.469 ± 0.271</td>\n",
       "      <td>0.467 ± 0.245</td>\n",
       "      <td>0.463 ± 0.251</td>\n",
       "      <td>-0.045 ± 0.374</td>\n",
       "    </tr>\n",
       "    <tr>\n",
       "      <th>4</th>\n",
       "      <td>XGBoost</td>\n",
       "      <td>0.450 ± 0.117</td>\n",
       "      <td>0.458 ± 0.127</td>\n",
       "      <td>0.433 ± 0.170</td>\n",
       "      <td>0.438 ± 0.149</td>\n",
       "      <td>-0.106 ± 0.239</td>\n",
       "    </tr>\n",
       "    <tr>\n",
       "      <th>5</th>\n",
       "      <td>SVM</td>\n",
       "      <td>0.570 ± 0.093</td>\n",
       "      <td>0.589 ± 0.110</td>\n",
       "      <td>0.633 ± 0.067</td>\n",
       "      <td>0.606 ± 0.074</td>\n",
       "      <td>0.131 ± 0.206</td>\n",
       "    </tr>\n",
       "    <tr>\n",
       "      <th>6</th>\n",
       "      <td>K-Nearest Neighbors</td>\n",
       "      <td>0.398 ± 0.140</td>\n",
       "      <td>0.414 ± 0.146</td>\n",
       "      <td>0.467 ± 0.194</td>\n",
       "      <td>0.437 ± 0.166</td>\n",
       "      <td>-0.216 ± 0.277</td>\n",
       "    </tr>\n",
       "  </tbody>\n",
       "</table>\n",
       "</div>"
      ],
      "text/plain": [
       "                 Model       Accuracy      Precision         Recall  \\\n",
       "0             Baseline  0.536 ± 0.106  0.533 ± 0.133  0.533 ± 0.194   \n",
       "1  Logistic Regression  0.708 ± 0.145  0.733 ± 0.170  0.667 ± 0.183   \n",
       "2        Decision Tree  0.483 ± 0.119  0.525 ± 0.131  0.533 ± 0.067   \n",
       "3        Random Forest  0.488 ± 0.173  0.469 ± 0.271  0.467 ± 0.245   \n",
       "4              XGBoost  0.450 ± 0.117  0.458 ± 0.127  0.433 ± 0.170   \n",
       "5                  SVM  0.570 ± 0.093  0.589 ± 0.110  0.633 ± 0.067   \n",
       "6  K-Nearest Neighbors  0.398 ± 0.140  0.414 ± 0.146  0.467 ± 0.194   \n",
       "\n",
       "        F1-Score             MCC  \n",
       "0  0.526 ± 0.170   0.062 ± 0.216  \n",
       "1  0.695 ± 0.175   0.416 ± 0.294  \n",
       "2  0.521 ± 0.074  -0.037 ± 0.261  \n",
       "3  0.463 ± 0.251  -0.045 ± 0.374  \n",
       "4  0.438 ± 0.149  -0.106 ± 0.239  \n",
       "5  0.606 ± 0.074   0.131 ± 0.206  \n",
       "6  0.437 ± 0.166  -0.216 ± 0.277  "
      ]
     },
     "execution_count": 6,
     "metadata": {},
     "output_type": "execute_result"
    }
   ],
   "source": [
    "smote_summary = pd.concat([baseline, utils.compare_models(data, labels['Cancer'], True)], axis=0, ignore_index=True)\n",
    "\n",
    "smote_summary.head(7)"
   ]
  },
  {
   "cell_type": "markdown",
   "id": "b0e096ab-5814-49c2-b2b9-049e65d00019",
   "metadata": {},
   "source": [
    "## Fairness assessment"
   ]
  },
  {
   "cell_type": "markdown",
   "id": "2ee7821a-70d5-4636-9807-89dfca5fdfe4",
   "metadata": {},
   "source": [
    "Finally, we define the protected attributes (in this case, only $\\textit{Age}$) and compute our defined metrics for each group $(\\textit{Privileged / Unprivileged})$."
   ]
  },
  {
   "cell_type": "code",
   "execution_count": 7,
   "id": "04058b69-f689-4b6f-a2d5-393050a8f8af",
   "metadata": {},
   "outputs": [],
   "source": [
    "# Define age ranges\n",
    "age_ranges = [18, 51, 100]  # Chosen based on literature, change it as needed\n",
    "privileged = [0, 1]\n",
    "\n",
    "# Create a new DataFrame to assess fairness (since we are adding a column)\n",
    "data_fairness = data.copy()\n",
    "\n",
    "# Create a new column with age categories\n",
    "data_fairness['Age Group'] = pd.cut(data_fairness['Age'], bins=age_ranges, labels=privileged)\n",
    "\n",
    "# Define protected attributes and privileged / unprivileged groups\n",
    "protected = ['Age Group']\n",
    "priv = [[1]]\n",
    "unpriv = [[0]]"
   ]
  },
  {
   "cell_type": "code",
   "execution_count": 8,
   "id": "529d0d6a-faa7-4f7f-ab71-7a125607a9ff",
   "metadata": {},
   "outputs": [
    {
     "data": {
      "text/html": [
       "<div>\n",
       "<style scoped>\n",
       "    .dataframe tbody tr th:only-of-type {\n",
       "        vertical-align: middle;\n",
       "    }\n",
       "\n",
       "    .dataframe tbody tr th {\n",
       "        vertical-align: top;\n",
       "    }\n",
       "\n",
       "    .dataframe thead th {\n",
       "        text-align: right;\n",
       "    }\n",
       "</style>\n",
       "<table border=\"1\" class=\"dataframe\">\n",
       "  <thead>\n",
       "    <tr style=\"text-align: right;\">\n",
       "      <th></th>\n",
       "      <th>Attribute</th>\n",
       "      <th>Group</th>\n",
       "      <th>Accuracy</th>\n",
       "      <th>Precision</th>\n",
       "      <th>Recall</th>\n",
       "      <th>F1-Score</th>\n",
       "      <th>MCC</th>\n",
       "    </tr>\n",
       "  </thead>\n",
       "  <tbody>\n",
       "    <tr>\n",
       "      <th>0</th>\n",
       "      <td>Age Group</td>\n",
       "      <td>Unprivileged</td>\n",
       "      <td>0.667 ± 0.380</td>\n",
       "      <td>0.333 ± 0.422</td>\n",
       "      <td>0.400 ± 0.490</td>\n",
       "      <td>0.360 ± 0.445</td>\n",
       "      <td>0.275 ± 0.497</td>\n",
       "    </tr>\n",
       "    <tr>\n",
       "      <th>1</th>\n",
       "      <td>Age Group</td>\n",
       "      <td>Privileged</td>\n",
       "      <td>0.668 ± 0.123</td>\n",
       "      <td>0.703 ± 0.200</td>\n",
       "      <td>0.697 ± 0.127</td>\n",
       "      <td>0.694 ± 0.151</td>\n",
       "      <td>0.326 ± 0.254</td>\n",
       "    </tr>\n",
       "  </tbody>\n",
       "</table>\n",
       "</div>"
      ],
      "text/plain": [
       "   Attribute         Group       Accuracy      Precision         Recall  \\\n",
       "0  Age Group  Unprivileged  0.667 ± 0.380  0.333 ± 0.422  0.400 ± 0.490   \n",
       "1  Age Group    Privileged  0.668 ± 0.123  0.703 ± 0.200  0.697 ± 0.127   \n",
       "\n",
       "        F1-Score            MCC  \n",
       "0  0.360 ± 0.445  0.275 ± 0.497  \n",
       "1  0.694 ± 0.151  0.326 ± 0.254  "
      ]
     },
     "execution_count": 8,
     "metadata": {},
     "output_type": "execute_result"
    }
   ],
   "source": [
    "utils.fairness_study('Logistic Regression', data_fairness, labels['Cancer'], protected, priv, unpriv)"
   ]
  },
  {
   "cell_type": "code",
   "execution_count": 9,
   "id": "187e94e2-fc83-449c-a961-22e55cf2031a",
   "metadata": {},
   "outputs": [
    {
     "data": {
      "text/html": [
       "<div>\n",
       "<style scoped>\n",
       "    .dataframe tbody tr th:only-of-type {\n",
       "        vertical-align: middle;\n",
       "    }\n",
       "\n",
       "    .dataframe tbody tr th {\n",
       "        vertical-align: top;\n",
       "    }\n",
       "\n",
       "    .dataframe thead th {\n",
       "        text-align: right;\n",
       "    }\n",
       "</style>\n",
       "<table border=\"1\" class=\"dataframe\">\n",
       "  <thead>\n",
       "    <tr style=\"text-align: right;\">\n",
       "      <th></th>\n",
       "      <th>Attribute</th>\n",
       "      <th>Group</th>\n",
       "      <th>Accuracy</th>\n",
       "      <th>Precision</th>\n",
       "      <th>Recall</th>\n",
       "      <th>F1-Score</th>\n",
       "      <th>MCC</th>\n",
       "    </tr>\n",
       "  </thead>\n",
       "  <tbody>\n",
       "    <tr>\n",
       "      <th>0</th>\n",
       "      <td>Age Group</td>\n",
       "      <td>Unprivileged</td>\n",
       "      <td>0.450 ± 0.332</td>\n",
       "      <td>0.180 ± 0.223</td>\n",
       "      <td>0.400 ± 0.490</td>\n",
       "      <td>0.248 ± 0.305</td>\n",
       "      <td>-0.052 ± 0.290</td>\n",
       "    </tr>\n",
       "    <tr>\n",
       "      <th>1</th>\n",
       "      <td>Age Group</td>\n",
       "      <td>Privileged</td>\n",
       "      <td>0.756 ± 0.168</td>\n",
       "      <td>0.756 ± 0.160</td>\n",
       "      <td>0.840 ± 0.196</td>\n",
       "      <td>0.783 ± 0.153</td>\n",
       "      <td>0.539 ± 0.333</td>\n",
       "    </tr>\n",
       "  </tbody>\n",
       "</table>\n",
       "</div>"
      ],
      "text/plain": [
       "   Attribute         Group       Accuracy      Precision         Recall  \\\n",
       "0  Age Group  Unprivileged  0.450 ± 0.332  0.180 ± 0.223  0.400 ± 0.490   \n",
       "1  Age Group    Privileged  0.756 ± 0.168  0.756 ± 0.160  0.840 ± 0.196   \n",
       "\n",
       "        F1-Score             MCC  \n",
       "0  0.248 ± 0.305  -0.052 ± 0.290  \n",
       "1  0.783 ± 0.153   0.539 ± 0.333  "
      ]
     },
     "execution_count": 9,
     "metadata": {},
     "output_type": "execute_result"
    }
   ],
   "source": [
    "utils.fairness_study('SVM', data_fairness, labels['Cancer'], protected, priv, unpriv)"
   ]
  },
  {
   "cell_type": "markdown",
   "id": "9869a81a-1260-4aab-a18b-f9f462270e20",
   "metadata": {},
   "source": [
    "## Interpretability"
   ]
  },
  {
   "cell_type": "markdown",
   "id": "c9609bbd-7567-402f-b976-895590f6a46d",
   "metadata": {},
   "source": [
    "Following the same path as in $\\textit{Experiment 1}$, we plot the most relevant features for our predictions."
   ]
  },
  {
   "cell_type": "code",
   "execution_count": 10,
   "id": "52597dd0-2cf0-48f9-a2f2-8d13a0b680bd",
   "metadata": {},
   "outputs": [
    {
     "data": {
      "application/vnd.jupyter.widget-view+json": {
       "model_id": "6e8ab5de03644f7882da46e167065a89",
       "version_major": 2,
       "version_minor": 0
      },
      "text/plain": [
       "  0%|          | 0/12 [00:00<?, ?it/s]"
      ]
     },
     "metadata": {},
     "output_type": "display_data"
    },
    {
     "data": {
      "image/png": "[encoded data removed]",
      "text/plain": [
       "<Figure size 800x600 with 1 Axes>"
      ]
     },
     "metadata": {},
     "output_type": "display_data"
    }
   ],
   "source": [
    "utils.top_features('Logistic Regression', data, labels['Cancer'], top_n=5)"
   ]
  }
 ],
 "metadata": {
  "kernelspec": {
   "display_name": "Python 3 (ipykernel)",
   "language": "python",
   "name": "python3"
  },
  "language_info": {
   "codemirror_mode": {
    "name": "ipython",
    "version": 3
   },
   "file_extension": ".py",
   "mimetype": "text/x-python",
   "name": "python",
   "nbconvert_exporter": "python",
   "pygments_lexer": "ipython3",
   "version": "3.10.16"
  }
 },
 "nbformat": 4,
 "nbformat_minor": 5
}
