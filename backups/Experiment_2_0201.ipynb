{
 "cells": [
  {
   "cell_type": "markdown",
   "id": "0bcd5a8e-5b00-43bf-9f33-5aaac50abe44",
   "metadata": {},
   "source": [
    "# Experiment 2. Predicting risk of breast cancer"
   ]
  },
  {
   "cell_type": "markdown",
   "id": "4dc0ad03-8987-45b0-8a62-7461e170131d",
   "metadata": {},
   "source": [
    "## Import libriaries"
   ]
  },
  {
   "cell_type": "code",
   "execution_count": 1,
   "id": "2fa768be-9b5b-4b77-a327-e37a9a4f4304",
   "metadata": {},
   "outputs": [
    {
     "name": "stderr",
     "output_type": "stream",
     "text": [
      "WARNING:root:No module named 'tensorflow': AdversarialDebiasing will be unavailable. To install, run:\n",
      "pip install 'aif360[AdversarialDebiasing]'\n",
      "WARNING:root:No module named 'tensorflow': AdversarialDebiasing will be unavailable. To install, run:\n",
      "pip install 'aif360[AdversarialDebiasing]'\n",
      "WARNING:root:No module named 'fairlearn': ExponentiatedGradientReduction will be unavailable. To install, run:\n",
      "pip install 'aif360[Reductions]'\n",
      "WARNING:root:No module named 'fairlearn': GridSearchReduction will be unavailable. To install, run:\n",
      "pip install 'aif360[Reductions]'\n",
      "WARNING:root:No module named 'inFairness': SenSeI and SenSR will be unavailable. To install, run:\n",
      "pip install 'aif360[inFairness]'\n",
      "WARNING:root:No module named 'fairlearn': GridSearchReduction will be unavailable. To install, run:\n",
      "pip install 'aif360[Reductions]'\n"
     ]
    }
   ],
   "source": [
    "# Ignore warnings\n",
    "import warnings\n",
    "warnings.filterwarnings('ignore')\n",
    "\n",
    "import pandas as pd\n",
    "import numpy as np\n",
    "import matplotlib.pyplot as plt\n",
    "\n",
    "import utils  # Module with all hand-crafted methods"
   ]
  },
  {
   "cell_type": "markdown",
   "id": "0f4ac529-f694-4213-8caa-8ad7acb7347d",
   "metadata": {},
   "source": [
    "## Parameter definition"
   ]
  },
  {
   "cell_type": "code",
   "execution_count": 2,
   "id": "31b7ae50-6553-4133-8f29-b8a4ddc2a7fe",
   "metadata": {},
   "outputs": [],
   "source": [
    "random_state = 42  # To enable reproducibility"
   ]
  },
  {
   "cell_type": "markdown",
   "id": "94ab7df3-3f28-40f7-a6f9-d6fe41014599",
   "metadata": {},
   "source": [
    "## Read the dataset and filter columns"
   ]
  },
  {
   "cell_type": "code",
   "execution_count": 3,
   "id": "da3a4c67-db84-4bd1-acab-a5a6949e849e",
   "metadata": {},
   "outputs": [
    {
     "name": "stdout",
     "output_type": "stream",
     "text": [
      "(58, 22) (58, 16) (58, 7)\n"
     ]
    }
   ],
   "source": [
    "# Read dataset\n",
    "lifestyle = pd.read_excel(\n",
    "    \"../data/Lifestyle.xlsx\",\n",
    "    usecols = \"B:W\"\n",
    ")\n",
    "\n",
    "# Correlated columns to the target (Group)\n",
    "corr_cols = ['Group', 'Adjuvant Treatment', 'Stage', 'Estrogen Receptor Positive', 'Surgery yes or no', 'Months Since Treatment End']\n",
    "\n",
    "# Store dropped columns and create a boolean column with our study target\n",
    "labels = lifestyle[corr_cols]\n",
    "labels['Cancer'] = lifestyle['Group'] == 'BreastCancer'\n",
    "\n",
    "# Drop correlated columns\n",
    "data = lifestyle.drop(columns = corr_cols)\n",
    "\n",
    "# Print the shape of each DataFrame\n",
    "print(lifestyle.shape, data.shape, labels.shape)"
   ]
  },
  {
   "cell_type": "markdown",
   "id": "e0521ed3-f677-4f18-9260-924238e3d710",
   "metadata": {},
   "source": [
    "## Compute baseline"
   ]
  },
  {
   "cell_type": "markdown",
   "id": "de464219-7e18-4337-a0e1-994b7cdb531e",
   "metadata": {},
   "source": [
    "We compute a baseline which serves as an indicator of whether or not our models improve the performance of a simpler model or not."
   ]
  },
  {
   "cell_type": "code",
   "execution_count": 4,
   "id": "ed0a23f5-7047-4325-9c51-e3cbd513016d",
   "metadata": {},
   "outputs": [],
   "source": [
    "baseline = utils.assess_baseline(data, labels['Cancer'])"
   ]
  },
  {
   "cell_type": "markdown",
   "id": "13b7018b-7d6c-440b-9375-fd76bc5899d1",
   "metadata": {},
   "source": [
    "## Predicting risk of breast cancer"
   ]
  },
  {
   "cell_type": "markdown",
   "id": "879a8e17-461e-4863-8fe8-56a985f986ff",
   "metadata": {},
   "source": [
    "We now try to predict our target column $\\textit{Cancer}$ using different ML algorithms."
   ]
  },
  {
   "cell_type": "code",
   "execution_count": 5,
   "id": "53ce1b46-fc58-434d-b947-c9cece914bbd",
   "metadata": {},
   "outputs": [
    {
     "data": {
      "text/html": [
       "<div>\n",
       "<style scoped>\n",
       "    .dataframe tbody tr th:only-of-type {\n",
       "        vertical-align: middle;\n",
       "    }\n",
       "\n",
       "    .dataframe tbody tr th {\n",
       "        vertical-align: top;\n",
       "    }\n",
       "\n",
       "    .dataframe thead th {\n",
       "        text-align: right;\n",
       "    }\n",
       "</style>\n",
       "<table border=\"1\" class=\"dataframe\">\n",
       "  <thead>\n",
       "    <tr style=\"text-align: right;\">\n",
       "      <th></th>\n",
       "      <th>Model</th>\n",
       "      <th>Accuracy</th>\n",
       "      <th>Precision</th>\n",
       "      <th>Recall</th>\n",
       "      <th>F1-Score</th>\n",
       "      <th>MCC</th>\n",
       "    </tr>\n",
       "  </thead>\n",
       "  <tbody>\n",
       "    <tr>\n",
       "      <th>0</th>\n",
       "      <td>Baseline</td>\n",
       "      <td>0.750000</td>\n",
       "      <td>0.800000</td>\n",
       "      <td>0.666667</td>\n",
       "      <td>0.727273</td>\n",
       "      <td>0.507093</td>\n",
       "    </tr>\n",
       "    <tr>\n",
       "      <th>1</th>\n",
       "      <td>Logistic Regression</td>\n",
       "      <td>0.672727</td>\n",
       "      <td>0.676190</td>\n",
       "      <td>0.666667</td>\n",
       "      <td>0.667179</td>\n",
       "      <td>0.343042</td>\n",
       "    </tr>\n",
       "    <tr>\n",
       "      <th>2</th>\n",
       "      <td>Decision Tree</td>\n",
       "      <td>0.446970</td>\n",
       "      <td>0.466667</td>\n",
       "      <td>0.500000</td>\n",
       "      <td>0.482051</td>\n",
       "      <td>-0.114966</td>\n",
       "    </tr>\n",
       "    <tr>\n",
       "      <th>3</th>\n",
       "      <td>Random Forest</td>\n",
       "      <td>0.503030</td>\n",
       "      <td>0.439286</td>\n",
       "      <td>0.566667</td>\n",
       "      <td>0.494505</td>\n",
       "      <td>-0.023466</td>\n",
       "    </tr>\n",
       "    <tr>\n",
       "      <th>4</th>\n",
       "      <td>XGBoost</td>\n",
       "      <td>0.433333</td>\n",
       "      <td>0.441429</td>\n",
       "      <td>0.433333</td>\n",
       "      <td>0.433706</td>\n",
       "      <td>-0.144522</td>\n",
       "    </tr>\n",
       "    <tr>\n",
       "      <th>5</th>\n",
       "      <td>SVM</td>\n",
       "      <td>0.656061</td>\n",
       "      <td>0.626190</td>\n",
       "      <td>0.800000</td>\n",
       "      <td>0.700659</td>\n",
       "      <td>0.331048</td>\n",
       "    </tr>\n",
       "    <tr>\n",
       "      <th>6</th>\n",
       "      <td>K-Nearest Neighbors</td>\n",
       "      <td>0.481818</td>\n",
       "      <td>0.499603</td>\n",
       "      <td>0.666667</td>\n",
       "      <td>0.570403</td>\n",
       "      <td>-0.061214</td>\n",
       "    </tr>\n",
       "  </tbody>\n",
       "</table>\n",
       "</div>"
      ],
      "text/plain": [
       "                 Model  Accuracy  Precision    Recall  F1-Score       MCC\n",
       "0             Baseline  0.750000   0.800000  0.666667  0.727273  0.507093\n",
       "1  Logistic Regression  0.672727   0.676190  0.666667  0.667179  0.343042\n",
       "2        Decision Tree  0.446970   0.466667  0.500000  0.482051 -0.114966\n",
       "3        Random Forest  0.503030   0.439286  0.566667  0.494505 -0.023466\n",
       "4              XGBoost  0.433333   0.441429  0.433333  0.433706 -0.144522\n",
       "5                  SVM  0.656061   0.626190  0.800000  0.700659  0.331048\n",
       "6  K-Nearest Neighbors  0.481818   0.499603  0.666667  0.570403 -0.061214"
      ]
     },
     "execution_count": 5,
     "metadata": {},
     "output_type": "execute_result"
    }
   ],
   "source": [
    "summary = pd.concat([baseline, utils.compare_models(data, labels, 'Cancer')], axis=0, ignore_index=True)\n",
    "\n",
    "summary.head(7)"
   ]
  },
  {
   "cell_type": "markdown",
   "id": "b89b6606-3225-40dd-8c6f-60bd8cd707fb",
   "metadata": {},
   "source": [
    "Moreover, we try to do the same with data augmentation using $\\textbf{SMOTE}$."
   ]
  },
  {
   "cell_type": "code",
   "execution_count": 6,
   "id": "f08ac570-cb9f-4afc-8ed5-7718c2383cf1",
   "metadata": {},
   "outputs": [
    {
     "data": {
      "text/html": [
       "<div>\n",
       "<style scoped>\n",
       "    .dataframe tbody tr th:only-of-type {\n",
       "        vertical-align: middle;\n",
       "    }\n",
       "\n",
       "    .dataframe tbody tr th {\n",
       "        vertical-align: top;\n",
       "    }\n",
       "\n",
       "    .dataframe thead th {\n",
       "        text-align: right;\n",
       "    }\n",
       "</style>\n",
       "<table border=\"1\" class=\"dataframe\">\n",
       "  <thead>\n",
       "    <tr style=\"text-align: right;\">\n",
       "      <th></th>\n",
       "      <th>Model</th>\n",
       "      <th>Accuracy</th>\n",
       "      <th>Precision</th>\n",
       "      <th>Recall</th>\n",
       "      <th>F1-Score</th>\n",
       "      <th>MCC</th>\n",
       "    </tr>\n",
       "  </thead>\n",
       "  <tbody>\n",
       "    <tr>\n",
       "      <th>0</th>\n",
       "      <td>Baseline</td>\n",
       "      <td>0.750000</td>\n",
       "      <td>0.800000</td>\n",
       "      <td>0.666667</td>\n",
       "      <td>0.727273</td>\n",
       "      <td>0.507093</td>\n",
       "    </tr>\n",
       "    <tr>\n",
       "      <th>1</th>\n",
       "      <td>Logistic Regression</td>\n",
       "      <td>0.707576</td>\n",
       "      <td>0.733333</td>\n",
       "      <td>0.666667</td>\n",
       "      <td>0.695152</td>\n",
       "      <td>0.415698</td>\n",
       "    </tr>\n",
       "    <tr>\n",
       "      <th>2</th>\n",
       "      <td>Decision Tree</td>\n",
       "      <td>0.483333</td>\n",
       "      <td>0.525000</td>\n",
       "      <td>0.533333</td>\n",
       "      <td>0.521099</td>\n",
       "      <td>-0.036905</td>\n",
       "    </tr>\n",
       "    <tr>\n",
       "      <th>3</th>\n",
       "      <td>Random Forest</td>\n",
       "      <td>0.487879</td>\n",
       "      <td>0.469286</td>\n",
       "      <td>0.466667</td>\n",
       "      <td>0.463337</td>\n",
       "      <td>-0.045240</td>\n",
       "    </tr>\n",
       "    <tr>\n",
       "      <th>4</th>\n",
       "      <td>XGBoost</td>\n",
       "      <td>0.450000</td>\n",
       "      <td>0.458095</td>\n",
       "      <td>0.433333</td>\n",
       "      <td>0.438151</td>\n",
       "      <td>-0.106102</td>\n",
       "    </tr>\n",
       "    <tr>\n",
       "      <th>5</th>\n",
       "      <td>SVM</td>\n",
       "      <td>0.569697</td>\n",
       "      <td>0.588571</td>\n",
       "      <td>0.633333</td>\n",
       "      <td>0.605894</td>\n",
       "      <td>0.131131</td>\n",
       "    </tr>\n",
       "    <tr>\n",
       "      <th>6</th>\n",
       "      <td>K-Nearest Neighbors</td>\n",
       "      <td>0.398485</td>\n",
       "      <td>0.414286</td>\n",
       "      <td>0.466667</td>\n",
       "      <td>0.437363</td>\n",
       "      <td>-0.216008</td>\n",
       "    </tr>\n",
       "  </tbody>\n",
       "</table>\n",
       "</div>"
      ],
      "text/plain": [
       "                 Model  Accuracy  Precision    Recall  F1-Score       MCC\n",
       "0             Baseline  0.750000   0.800000  0.666667  0.727273  0.507093\n",
       "1  Logistic Regression  0.707576   0.733333  0.666667  0.695152  0.415698\n",
       "2        Decision Tree  0.483333   0.525000  0.533333  0.521099 -0.036905\n",
       "3        Random Forest  0.487879   0.469286  0.466667  0.463337 -0.045240\n",
       "4              XGBoost  0.450000   0.458095  0.433333  0.438151 -0.106102\n",
       "5                  SVM  0.569697   0.588571  0.633333  0.605894  0.131131\n",
       "6  K-Nearest Neighbors  0.398485   0.414286  0.466667  0.437363 -0.216008"
      ]
     },
     "execution_count": 6,
     "metadata": {},
     "output_type": "execute_result"
    }
   ],
   "source": [
    "smote_summary = pd.concat([baseline, utils.compare_models(data, labels, 'Cancer', True)], axis=0, ignore_index=True)\n",
    "\n",
    "smote_summary.head(7)"
   ]
  },
  {
   "cell_type": "markdown",
   "id": "5b4fbf78-d39a-4261-8757-453ff79b1a5b",
   "metadata": {},
   "source": [
    "## Interpretability"
   ]
  },
  {
   "cell_type": "markdown",
   "id": "36bc91e7-27fe-41e0-8b22-6086829a272a",
   "metadata": {},
   "source": [
    "Follow the same path as in $\\textit{Experiment 1}$, we plot the most relevant features for our predictions."
   ]
  },
  {
   "cell_type": "code",
   "execution_count": 7,
   "id": "126587d0-3d4e-445d-a6af-afb9cffe8d18",
   "metadata": {},
   "outputs": [
    {
     "data": {
      "application/vnd.jupyter.widget-view+json": {
       "model_id": "3b986e549c47418482fe1f00e7245fe2",
       "version_major": 2,
       "version_minor": 0
      },
      "text/plain": [
       "  0%|          | 0/12 [00:00<?, ?it/s]"
      ]
     },
     "metadata": {},
     "output_type": "display_data"
    },
    {
     "name": "stdout",
     "output_type": "stream",
     "text": [
      "Plotting SHAP values for predicting Cancer using Logistic Regression...\n"
     ]
    },
    {
     "data": {
      "text/plain": [
       "<Figure size 1200x800 with 0 Axes>"
      ]
     },
     "metadata": {},
     "output_type": "display_data"
    },
    {
     "data": {
      "image/png": "[encoded data removed]",
      "text/plain": [
       "<Figure size 1150x660 with 2 Axes>"
      ]
     },
     "metadata": {},
     "output_type": "display_data"
    }
   ],
   "source": [
    "utils.plot_shap_values('Logistic Regression', data, labels, 'Cancer')"
   ]
  },
  {
   "cell_type": "markdown",
   "id": "b0e096ab-5814-49c2-b2b9-049e65d00019",
   "metadata": {},
   "source": [
    "## Fairness"
   ]
  },
  {
   "cell_type": "markdown",
   "id": "2ee7821a-70d5-4636-9807-89dfca5fdfe4",
   "metadata": {},
   "source": [
    "Finally, we define the protected attributes (in this case, only $\\textit{Age}$) and compute the usual fairness metrics."
   ]
  },
  {
   "cell_type": "code",
   "execution_count": 8,
   "id": "04058b69-f689-4b6f-a2d5-393050a8f8af",
   "metadata": {},
   "outputs": [],
   "source": [
    "# Define age ranges\n",
    "age_ranges = [18, 63, 100]  # Adjust ranges as needed\n",
    "privileged = [0, 1]\n",
    "\n",
    "# Create a new column with age categories\n",
    "data['Age Group'] = pd.cut(data['Age'], bins=age_ranges, labels=privileged)\n",
    "\n",
    "protected = ['Age Group']\n",
    "priv_groups = [[{'Age Group': 1}]]\n",
    "unpriv_groups = [[{'Age Group': 0}]]"
   ]
  },
  {
   "cell_type": "code",
   "execution_count": 9,
   "id": "187e94e2-fc83-449c-a961-22e55cf2031a",
   "metadata": {},
   "outputs": [
    {
     "data": {
      "text/html": [
       "<div>\n",
       "<style scoped>\n",
       "    .dataframe tbody tr th:only-of-type {\n",
       "        vertical-align: middle;\n",
       "    }\n",
       "\n",
       "    .dataframe tbody tr th {\n",
       "        vertical-align: top;\n",
       "    }\n",
       "\n",
       "    .dataframe thead th {\n",
       "        text-align: right;\n",
       "    }\n",
       "</style>\n",
       "<table border=\"1\" class=\"dataframe\">\n",
       "  <thead>\n",
       "    <tr style=\"text-align: right;\">\n",
       "      <th></th>\n",
       "      <th>Protected Attribute</th>\n",
       "      <th>SPD (BP)</th>\n",
       "      <th>DI (BP)</th>\n",
       "      <th>SPD (AP)</th>\n",
       "      <th>DI (AP)</th>\n",
       "      <th>EOD</th>\n",
       "    </tr>\n",
       "  </thead>\n",
       "  <tbody>\n",
       "    <tr>\n",
       "      <th>0</th>\n",
       "      <td>Age Group</td>\n",
       "      <td>0.141667</td>\n",
       "      <td>1.354167</td>\n",
       "      <td>0.181818</td>\n",
       "      <td>inf</td>\n",
       "      <td>NaN</td>\n",
       "    </tr>\n",
       "  </tbody>\n",
       "</table>\n",
       "</div>"
      ],
      "text/plain": [
       "  Protected Attribute  SPD (BP)   DI (BP)  SPD (AP)  DI (AP)  EOD\n",
       "0           Age Group  0.141667  1.354167  0.181818      inf  NaN"
      ]
     },
     "execution_count": 9,
     "metadata": {},
     "output_type": "execute_result"
    }
   ],
   "source": [
    "utils.fairness_study('Logistic Regression', data, labels, 'Cancer', protected, priv_groups, unpriv_groups)"
   ]
  }
 ],
 "metadata": {
  "kernelspec": {
   "display_name": "Python 3 (ipykernel)",
   "language": "python",
   "name": "python3"
  },
  "language_info": {
   "codemirror_mode": {
    "name": "ipython",
    "version": 3
   },
   "file_extension": ".py",
   "mimetype": "text/x-python",
   "name": "python",
   "nbconvert_exporter": "python",
   "pygments_lexer": "ipython3",
   "version": "3.10.16"
  }
 },
 "nbformat": 4,
 "nbformat_minor": 5
}
